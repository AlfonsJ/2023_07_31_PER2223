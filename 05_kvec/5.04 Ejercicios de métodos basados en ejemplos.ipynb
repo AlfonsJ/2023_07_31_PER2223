{
 "cells": [
  {
   "attachments": {},
   "cell_type": "markdown",
   "metadata": {},
   "source": [
    "## 5.00 Modelos paramétricos y no paramétricos"
   ]
  },
  {
   "attachments": {},
   "cell_type": "markdown",
   "metadata": {},
   "source": [
    "Una dicotomı́a clásica entre modelos de aprendizaje automático distingue entre modelos paramétricos y no paramétricos. En relación con esta dicotomı́a, indica la respuesta incorrecta (o escoge la última opción si las tres primeras son correctas).\n",
    "1. Los paramétricos estiman un vector de parámetros de dimensión fija a partir de datos (de aprendizaje) y luego, en inferencia, prescinden de los datos.\n",
    "2. Los no parámetricos mantienen los datos (tras el aprendizaje, en inferencia), por lo que puede decirse que el número efectivo de parámetros crece con el número de datos.\n",
    "3. Los no parámetricos suelen definirse en términos de una medida de (di)similitud o función distancia para comparar datos.\n",
    "4. Todas son correctas.\n",
    "\n",
    "<details><summary>Solución: </summary><p> La 4.</p></details>"
   ]
  },
  {
   "attachments": {},
   "cell_type": "markdown",
   "metadata": {},
   "source": [
    "<details>\n",
    "  <summary>stuff with *mark* **down** in `summary` doesn't work any more, use HTML <i>italics</i> and <b>bold</b> instead in <code>&lt;summary&gt;</code> (<i>click to expand</i>)</summary>\n",
    "  <!-- have to be followed by an empty line! -->\n",
    "\n",
    "## *formatted* **heading** with [a](link)\n",
    "```java\n",
    "code block\n",
    "```\n",
    "\n",
    "  <details>\n",
    "    <summary><u>nested</u> <b>stuff</b> (<i>click to expand</i>)</summary>\n",
    "    <!-- have to be followed by an empty line! -->\n",
    "\n",
    "A bit more than normal indentation is necessary to get the nesting correct,\n",
    " 1. list\n",
    " 1. with\n",
    "    1. nested\n",
    "    1. items\n",
    "        ```java\n",
    "        // including code\n",
    "        ```\n",
    "    1. blocks\n",
    " 1. and continued non-nested\n",
    "\n",
    "  </details>\n",
    "</details>\n"
   ]
  }
 ],
 "metadata": {
  "language_info": {
   "name": "python"
  },
  "orig_nbformat": 4
 },
 "nbformat": 4,
 "nbformat_minor": 2
}
