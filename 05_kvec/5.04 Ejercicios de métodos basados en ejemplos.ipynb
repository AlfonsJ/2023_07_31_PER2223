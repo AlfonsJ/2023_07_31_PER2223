{
 "cells": [
  {
   "attachments": {},
   "cell_type": "markdown",
   "metadata": {},
   "source": [
    "## 5.00 Modelos paramétricos y no paramétricos"
   ]
  },
  {
   "attachments": {},
   "cell_type": "markdown",
   "metadata": {},
   "source": [
    "Una dicotomı́a clásica entre modelos de aprendizaje automático distingue entre modelos paramétricos y no paramétricos. En relación con esta dicotomı́a, indica la respuesta incorrecta (o escoge la última opción si las tres primeras son correctas).\n",
    "1. Los paramétricos estiman un vector de parámetros de dimensión fija a partir de datos (de aprendizaje) y luego, en inferencia, prescinden de los datos.\n",
    "2. Los no parámetricos mantienen los datos (tras el aprendizaje, en inferencia), por lo que puede decirse que el número efectivo de parámetros crece con el número de datos.\n",
    "3. Los no parámetricos suelen definirse en términos de una medida de (di)similitud o función distancia para comparar datos.\n",
    "4. Todas son correctas.\n",
    "\n",
    "<details><summary>Solución: </summary><p> La 4.</p></details>"
   ]
  },
  {
   "attachments": {},
   "cell_type": "markdown",
   "metadata": {},
   "source": [
    "<details>\n",
    "\n",
    "<summary>Tips for collapsed sections</summary>\n",
    "\n",
    "### You can add a header\n",
    "\n",
    "You can add text within a collapsed section. \n",
    "\n",
    "You can add an image or a code block, too.\n",
    "\n",
    "```ruby\n",
    "   puts \"Hello World\"\n",
    "```\n",
    "\n",
    "</details>\n"
   ]
  },
  {
   "attachments": {},
   "cell_type": "markdown",
   "metadata": {},
   "source": [
    "<details> \n",
    "  <summary>Q1: What is the best Language in the World? </summary>\n",
    "   A1: JavaScript \n",
    "</details>"
   ]
  }
 ],
 "metadata": {
  "language_info": {
   "name": "python"
  },
  "orig_nbformat": 4
 },
 "nbformat": 4,
 "nbformat_minor": 2
}
