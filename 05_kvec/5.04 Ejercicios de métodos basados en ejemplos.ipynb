{
 "cells": [
  {
   "attachments": {},
   "cell_type": "markdown",
   "metadata": {},
   "source": [
    "# 5.00 Modelos paramétricos y no paramétricos"
   ]
  },
  {
   "attachments": {},
   "cell_type": "markdown",
   "metadata": {},
   "source": [
    "Una dicotomı́a clásica entre modelos de aprendizaje automático distingue entre modelos paramétricos y no paramétricos. En relación con esta dicotomı́a, indica la respuesta incorrecta (o escoge la última opción si las tres primeras son correctas).\n",
    "1. Los paramétricos estiman un vector de parámetros de dimensión fija a partir de datos (de aprendizaje) y luego, en inferencia, prescinden de los datos.\n",
    "2. Los no parámetricos mantienen los datos (tras el aprendizaje, en inferencia), por lo que puede decirse que el número efectivo de parámetros crece con el número de datos.\n",
    "3. Los no parámetricos suelen definirse en términos de una medida de (di)similitud o función distancia para comparar datos.\n",
    "4. Todas son correctas.\n",
    "<details><summary>Solución: </summary><p>La 4.</p></details>"
   ]
  },
  {
   "attachments": {},
   "cell_type": "markdown",
   "metadata": {},
   "source": [
    "# 5.01 K-vecinos más próximos"
   ]
  },
  {
   "attachments": {},
   "cell_type": "markdown",
   "metadata": {},
   "source": [
    "Sea un problema de clasificación de datos 2d en tres clases, $c\\in\\{1, 2, 3\\}$. Se tienen los siguientes datos de aprendizaje:\n",
    "$$\\begin{array}{cccc}\n",
    "n & 1 & 2 & 3 & 4 & 5 & 6 & 7 & 8 & 9 & 10 & 11 & 12 & 13 & 14 & 15\\\\\\hline%\n",
    "x_{n1} &1&1&1 &2&2&2&2 &3 &4&4 &6 &7&7&7 &8\\\\%\n",
    "x_{n2} &2&3&8 &1&3&7&8 &6 &5&6 &2 &1&2&3 &1\\\\\\hline%\n",
    "c_n    &1&1&2 &1&1&2&2 &2 &1&2 &3 &3&3&3 &3%\n",
    "\\end{array}$$\n",
    "Clasifica la muestra de test $\\boldsymbol{x}=(5, 5)^t$ por los $K$-vecinos más próximos en distancia Euclídea para $K=1,2,3,4,5$. En caso de empate de votos, desempata con NN entre las clases empatadas.\n",
    "<details><summary>Solución: </summary>\n",
    "<p>Los 5 vecinos votan: 1 a la clase 1, 2 a la 2, y 2 a la 3. Entre los vecinos de las clases 2 y 3, el más cercano es de la clase 2. Por tanto, 5NN clasifica la muestra de test en la clase 2.</p></details>"
   ]
  }
 ],
 "metadata": {
  "language_info": {
   "name": "python"
  },
  "orig_nbformat": 4
 },
 "nbformat": 4,
 "nbformat_minor": 2
}
