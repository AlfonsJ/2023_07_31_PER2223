{
 "cells": [
  {
   "attachments": {},
   "cell_type": "markdown",
   "metadata": {},
   "source": [
    "# Modelado aditivo por etapas hacia adelante\n",
    "\n",
    "**Forward stagewise additive modeling (FSAM)** optimiza la pérdida empı́rica con pérdida general y $f$ modelo aditivo. En la iteración $m$ calcula:\n",
    "$$(\\beta_m,\\boldsymbol{\\theta}_m)%\n",
    "=\\operatorname*{argmin}_{\\beta,\\boldsymbol{\\theta}}\\;L_m(\\beta,\\boldsymbol{\\theta})%\n",
    "\\qquad\\text{con}\\qquad%\n",
    "L_m(\\beta,\\boldsymbol{\\theta})%\n",
    "=\\sum_{i=1}^N\\ell(y_i, f_{m-1}(\\boldsymbol{x}_i)+\\beta F(\\boldsymbol{x}_i;\\boldsymbol{\\theta}))$$\n",
    "y reajusta el modelo,\n",
    "$$f_m(\\boldsymbol{x})=f_{m-1}(\\boldsymbol{x})+\\beta_m F_m(\\boldsymbol{x})%\n",
    "\\qquad\\text{con}\\qquad%\n",
    "F_m(\\boldsymbol{x})=F(\\boldsymbol{x};\\boldsymbol{\\theta}_m)$$"
   ]
  },
  {
   "attachments": {},
   "cell_type": "markdown",
   "metadata": {},
   "source": [
    "## Pérdida cuadrática y boosting mínimos cuadrados\n",
    "\n",
    "Si $\\ell(y,\\hat{y})=(y-\\hat{y})^2$, el objetivo en la iteración $m$ es:\n",
    "$$L_m(\\beta,\\boldsymbol{\\theta})%\n",
    "=\\sum_{i=1}^N (r_{im}-\\beta F(\\boldsymbol{x}_i;\\boldsymbol{\\theta}))^2\n",
    "\\qquad\\text{con}\\qquad r_{im}=y_i-f_{m-1}(\\boldsymbol{x}_i)$$\n",
    "Boosting mínimos cuadrados minimiza el objetivo fijando $\\beta=1$ y ajustando $F$ a los residuos."
   ]
  },
  {
   "attachments": {},
   "cell_type": "markdown",
   "metadata": {},
   "source": [
    "## Pérdida exponencial y AdaBoost\n",
    "\n",
    "Si $\\ell(\\tilde{y},\\hat{y})=\\exp(-\\tilde{y}\\hat{y})$, $\\tilde{y}\\in\\{-1,+1\\}$, el objetivo en la iteración $m$ es:\n",
    "$$\\begin{align*}\n",
    "L_m(\\beta,\\boldsymbol{\\theta})%\n",
    "&=\\sum_{i=1}^N \\exp(-\\tilde{y}_i(f_{m-1}(\\boldsymbol{x}_i)+\\beta F(\\boldsymbol{x}_i;\\boldsymbol{\\theta})))\\\\%\n",
    "&=\\sum_{i=1}^N w_{im}\\exp(-\\beta\\tilde{y}_i F(\\boldsymbol{x}_i;\\boldsymbol{\\theta}))%\n",
    "\\qquad\\text{con}\\qquad w_{im}=\\exp(-\\tilde{y}_i f_{m-1}(\\boldsymbol{x}_i))\\\\%\n",
    "&=e^{-\\beta}\\sum_{\\tilde{y}_i=F(\\boldsymbol{x}_i;\\boldsymbol{\\theta})} w_{im}%\n",
    "+e^{\\beta}\\sum_{\\tilde{y}_i\\neq F(\\boldsymbol{x}_i;\\boldsymbol{\\theta})} w_{im}\\\\%\n",
    "&=(e^{\\beta}-e^{-\\beta})\\sum_{i=1}^N w_{im}\\mathbb{I}(\\tilde{y}_i\\neq F(\\boldsymbol{x}_i;\\boldsymbol{\\theta}))%\n",
    "+e^{-\\beta}\\sum_{i=1}^N w_{im}\n",
    "\\end{align*}$$"
   ]
  }
 ],
 "metadata": {
  "kernelspec": {
   "display_name": "Python 3",
   "language": "python",
   "name": "python3"
  },
  "language_info": {
   "codemirror_mode": {
    "name": "ipython",
    "version": 3
   },
   "file_extension": ".py",
   "mimetype": "text/x-python",
   "name": "python",
   "nbconvert_exporter": "python",
   "pygments_lexer": "ipython3",
   "version": "3.10.6"
  },
  "orig_nbformat": 4,
  "vscode": {
   "interpreter": {
    "hash": "e7370f93d1d0cde622a1f8e1c04877d8463912d04d973331ad4851f04de6915a"
   }
  }
 },
 "nbformat": 4,
 "nbformat_minor": 2
}
