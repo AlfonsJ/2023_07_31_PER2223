{
 "cells": [
  {
   "attachments": {},
   "cell_type": "markdown",
   "metadata": {},
   "source": [
    "# Gráficos de dependencia parcial\n",
    "\n",
    "Un **gráfico de dependencia parcial** muestra la predicción del modelo en función de una ($x_k$) o dos ($x_j, x_k$) características:\n",
    "$$\\begin{align*}\n",
    "\\bar{f}_k(x_k)&=\\frac{1}{N}\\sum_{n=1}^N f(\\boldsymbol{x}_{n,-k},x_k)\\\\%\n",
    "\\bar{f}_{jk}(x_j,x_k)&=\\frac{1}{N}\\sum_{n=1}^N f(\\boldsymbol{x}_{n,-jk},x_j,x_k)%\n",
    "\\end{align*}$$\n",
    "En clasificación binaria se muestra la log-odds en función de $x_k$ (y $x_k$)."
   ]
  }
 ],
 "metadata": {
  "kernelspec": {
   "display_name": "Python 3",
   "language": "python",
   "name": "python3"
  },
  "language_info": {
   "codemirror_mode": {
    "name": "ipython",
    "version": 3
   },
   "file_extension": ".py",
   "mimetype": "text/x-python",
   "name": "python",
   "nbconvert_exporter": "python",
   "pygments_lexer": "ipython3",
   "version": "3.10.6"
  },
  "orig_nbformat": 4,
  "vscode": {
   "interpreter": {
    "hash": "e7370f93d1d0cde622a1f8e1c04877d8463912d04d973331ad4851f04de6915a"
   }
  }
 },
 "nbformat": 4,
 "nbformat_minor": 2
}
