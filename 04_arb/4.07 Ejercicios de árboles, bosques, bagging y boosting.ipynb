{
 "cells": [
  {
   "attachments": {},
   "cell_type": "markdown",
   "metadata": {},
   "source": [
    "# 4.07 Ejercicios de árboles, bosques, bagging y boosting"
   ]
  },
  {
   "attachments": {},
   "cell_type": "markdown",
   "metadata": {},
   "source": [
    "**Cuestión:** Los árboles de clasificación y regresión (CART) particionan el espacio de entrada recursivamente y definen un modelo local en cada región resultante; globalmente, el modelo és un árbol con una hoja por región. Indica la respuesta incorrecta (o escoge la última opción si las tres primeras son correctas).\n",
    "1. El árbol constituye un conjunto de reglas de decisión anidadas.\n",
    "2. Los nodos internos definen splits paralelos a los ejes.\n",
    "3. En cada hoja se especifica la salida predicha para toda entrada dentro de su región asociada.\n",
    "4. Todas son correctas."
   ]
  },
  {
   "attachments": {},
   "cell_type": "markdown",
   "metadata": {},
   "source": [
    "**Solución:** La 4."
   ]
  }
 ],
 "metadata": {
  "language_info": {
   "name": "python"
  },
  "orig_nbformat": 4
 },
 "nbformat": 4,
 "nbformat_minor": 2
}
