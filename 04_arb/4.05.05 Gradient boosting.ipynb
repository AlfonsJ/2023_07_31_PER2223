{
 "cells": [
  {
   "attachments": {},
   "cell_type": "markdown",
   "metadata": {},
   "source": [
    "## Gradient boosting\n",
    "\n",
    "**Gradient boosting** es una técnica genérica que interpreta FSAM como un algoritmo descenso por gradiente para un problema de minimización en un espacio funcional:\n",
    "$$\\hat{\\boldsymbol{f}}%\n",
    "=\\operatorname*{argmin}_{\\boldsymbol{f}\\in\\operatorname{lin}(\\boldsymbol{\\mathcal{F}})} %\n",
    "\\mathcal{L}(\\boldsymbol{f})$$\n",
    "donde $\\operatorname{lin}(\\boldsymbol{\\mathcal{F}})$ es el conjunto de todas las combinaciones lineales de una clase de funciones base $\\boldsymbol{\\mathcal{F}}$. En la iteración $m$ se desea construir un modelo $\\boldsymbol{f}_m$ a partir de uno previo, $\\boldsymbol{f}_{m-1}$, mediante adición de una función base $F_m$,\n",
    "$$\\boldsymbol{f}_m=\\boldsymbol{f}_{m-1}+\\beta_m F_m%\n",
    "\\qquad\\text{con}\\qquad\\beta_m>0$$\n",
    "de manera que $\\mathcal{L}(\\boldsymbol{f}_m)\\leq\\mathcal{L}(\\boldsymbol{f}_{m-1})$. Visto como un problema de minimización en un espacio funcional, descenso por gradiente consiste en escoger la \"dirección\" de máximo descenso, esto es, la del negativo del gradiente de $\\mathcal{L}(\\boldsymbol{f})$ con respecto a $F_m$ en $\\boldsymbol{f}_{m-1}$, $\\boldsymbol{g}_m$, y construir el nuevo modelo como:\n",
    "$$\\boldsymbol{f}_m=\\boldsymbol{f}_{m-1}-\\beta_m \\boldsymbol{g}_m$$\n",
    "donde el factor de aprendizaje se puede escoger por búsqueda lineal,\n",
    "$$\\beta_m=\\operatorname{argmin}_{\\beta}\\mathcal{L}(\\boldsymbol{f}_{m-1}-\\beta_m \\boldsymbol{g}_m)$$\n",
    "El gradiente de $\\mathcal{L}(\\boldsymbol{f})$ con respecto a $F_m$ en $\\boldsymbol{f}_{m-1}$\n",
    "\n",
    "\n",
    "\n",
    "\n"
   ]
  }
 ],
 "metadata": {
  "kernelspec": {
   "display_name": "Python 3",
   "language": "python",
   "name": "python3"
  },
  "language_info": {
   "codemirror_mode": {
    "name": "ipython",
    "version": 3
   },
   "file_extension": ".py",
   "mimetype": "text/x-python",
   "name": "python",
   "nbconvert_exporter": "python",
   "pygments_lexer": "ipython3",
   "version": "3.10.6"
  },
  "orig_nbformat": 4,
  "vscode": {
   "interpreter": {
    "hash": "e7370f93d1d0cde622a1f8e1c04877d8463912d04d973331ad4851f04de6915a"
   }
  }
 },
 "nbformat": 4,
 "nbformat_minor": 2
}
