{
 "cells": [
  {
   "attachments": {},
   "cell_type": "markdown",
   "metadata": {},
   "source": [
    "# Importancia de características\n",
    "\n",
    "La **importancia de una característica** $k$ en un árbol $T$ se define como la suma de las ganancias (reducciones de coste) obtenidas en los nodos internos que la usan:\n",
    "$$R_k(T)=\\sum_jG_j\\mathbb{I}(v_j=k)$$\n",
    "donde $v_j=k$ si el nodo $j$ usa la variable $k$. En el caso de un ensamble de $M$ árboles, esta definición se extiende mediante promediado:\n",
    "$$R_k=\\frac{1}{M}\\sum_{m=1}^MR_k(T_m)$$\n",
    "Las importancias de las características suelen normalizarse con respecto a la máxima ($100\\%$). "
   ]
  }
 ],
 "metadata": {
  "kernelspec": {
   "display_name": "Python 3",
   "language": "python",
   "name": "python3"
  },
  "language_info": {
   "codemirror_mode": {
    "name": "ipython",
    "version": 3
   },
   "file_extension": ".py",
   "mimetype": "text/x-python",
   "name": "python",
   "nbconvert_exporter": "python",
   "pygments_lexer": "ipython3",
   "version": "3.10.6"
  },
  "orig_nbformat": 4,
  "vscode": {
   "interpreter": {
    "hash": "e7370f93d1d0cde622a1f8e1c04877d8463912d04d973331ad4851f04de6915a"
   }
  }
 },
 "nbformat": 4,
 "nbformat_minor": 2
}
