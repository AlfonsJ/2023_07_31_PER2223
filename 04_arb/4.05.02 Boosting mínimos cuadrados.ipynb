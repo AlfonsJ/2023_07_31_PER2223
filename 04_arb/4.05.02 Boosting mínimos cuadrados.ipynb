{
 "cells": [
  {
   "attachments": {},
   "cell_type": "markdown",
   "metadata": {},
   "source": [
    "## Pérdida cuadrática y boosting mínimos cuadrados\n",
    "\n",
    "Si $\\ell(y,\\hat{y})=(y-\\hat{y})^2$, el objetivo en la iteración $m$ es:\n",
    "$$L_m(\\beta,\\boldsymbol{\\theta})%\n",
    "=\\sum_{i=1}^N (r_{im}-\\beta F(\\boldsymbol{x}_i;\\boldsymbol{\\theta}))^2\n",
    "\\qquad\\text{con}\\qquad r_{im}=y_i-f_{m-1}(\\boldsymbol{x}_i)$$\n",
    "**Boosting mínimos cuadrados** minimiza el objetivo fijando $\\beta=1$ y ajustando $F$ a los residuos."
   ]
  }
 ],
 "metadata": {
  "kernelspec": {
   "display_name": "Python 3",
   "language": "python",
   "name": "python3"
  },
  "language_info": {
   "codemirror_mode": {
    "name": "ipython",
    "version": 3
   },
   "file_extension": ".py",
   "mimetype": "text/x-python",
   "name": "python",
   "nbconvert_exporter": "python",
   "pygments_lexer": "ipython3",
   "version": "3.10.6"
  },
  "orig_nbformat": 4,
  "vscode": {
   "interpreter": {
    "hash": "e7370f93d1d0cde622a1f8e1c04877d8463912d04d973331ad4851f04de6915a"
   }
  }
 },
 "nbformat": 4,
 "nbformat_minor": 2
}
