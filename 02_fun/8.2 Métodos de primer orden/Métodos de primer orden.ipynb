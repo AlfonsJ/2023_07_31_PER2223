{
 "cells": [
  {
   "attachments": {},
   "cell_type": "markdown",
   "metadata": {},
   "source": [
    "# Métodos de primer orden\n",
    "\n",
    "Los **métodos de primer orden** son métodos iterativos basados en derivadas de primer orden del objetivo. Dado un punto de inicio $\\boldsymbol{\\theta}_0$, la iteración $t$ consiste en hacer:\n",
    "$$\\boldsymbol{\\theta}_{t+1}=\\boldsymbol{\\theta}_t+\\eta_t\\boldsymbol{d}_t$$\n",
    "donde $\\eta_t$ es el **factor de aprendizaje (learning rate)** y $\\boldsymbol{d}_t$ la **dirección de descenso**"
   ]
  },
  {
   "attachments": {},
   "cell_type": "markdown",
   "metadata": {},
   "source": [
    "## Descenso por gradiente\n",
    "\n",
    "Consiste en escoger el negativo del gradiente del objetivo como dirección de descenso:\n",
    "$$\\boldsymbol{\\theta}_{t+1}=\\boldsymbol{\\theta}_t-\\eta_t\\boldsymbol{g}_t\n",
    "\\quad\\text{con}\\quad\n",
    "\\boldsymbol{g}_t=\\mathbf{\\nabla}\\mathcal{L}(\\boldsymbol{\\theta})\\rvert_{\\boldsymbol{\\theta}_t}$$\n"
   ]
  },
  {
   "attachments": {},
   "cell_type": "markdown",
   "metadata": {},
   "source": [
    "**Ejemplo:** $\\mathcal{L}=\\theta^2$, $\\theta_0=10$, $\\eta_t=0.2$, tolerancia $0.01$"
   ]
  },
  {
   "cell_type": "code",
   "execution_count": 1,
   "metadata": {},
   "outputs": [
    {
     "name": "stdout",
     "output_type": "stream",
     "text": [
      "6.0\n",
      "3.6\n",
      "2.16\n",
      "1.296\n",
      "0.778\n",
      "0.467\n",
      "0.28\n",
      "0.168\n",
      "0.101\n",
      "0.06\n",
      "0.036\n",
      "0.022\n"
     ]
    }
   ],
   "source": [
    "import numpy as np\n",
    "\n",
    "grad, theta, eta, tol = lambda t: 2*t, 10.0, 0.2, 0.01\n",
    "while True:\n",
    "\tdelta = -eta * grad(theta)\n",
    "\tif np.all(np.abs(delta) <= tol):\n",
    "\t\tbreak\n",
    "\ttheta += delta\n",
    "\tprint(round(theta, 3))"
   ]
  }
 ],
 "metadata": {
  "kernelspec": {
   "display_name": "Python 3",
   "language": "python",
   "name": "python3"
  },
  "language_info": {
   "codemirror_mode": {
    "name": "ipython",
    "version": 3
   },
   "file_extension": ".py",
   "mimetype": "text/x-python",
   "name": "python",
   "nbconvert_exporter": "python",
   "pygments_lexer": "ipython3",
   "version": "3.10.6"
  },
  "orig_nbformat": 4
 },
 "nbformat": 4,
 "nbformat_minor": 2
}
