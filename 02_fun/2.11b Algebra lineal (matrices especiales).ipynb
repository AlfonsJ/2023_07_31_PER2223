{
 "cells": [
  {
   "attachments": {},
   "cell_type": "markdown",
   "metadata": {},
   "source": [
    "# Tipos de matrices especiales"
   ]
  },
  {
   "cell_type": "code",
   "execution_count": 18,
   "metadata": {},
   "outputs": [],
   "source": [
    "import numpy as np\n",
    "import matplotlib.pyplot as plt"
   ]
  },
  {
   "attachments": {},
   "cell_type": "markdown",
   "metadata": {},
   "source": [
    "## Matriz diagonal"
   ]
  },
  {
   "cell_type": "code",
   "execution_count": 8,
   "metadata": {},
   "outputs": [
    {
     "name": "stdout",
     "output_type": "stream",
     "text": [
      "Construcción:\n",
      " [[1 0]\n",
      " [0 2]]\n",
      "Extracción:  [1 2]\n",
      "Identidad:\n",
      " [[1. 0.]\n",
      " [0. 1.]]\n"
     ]
    }
   ],
   "source": [
    "print(\"Construcción:\\n\", np.diag([1, 2]))\n",
    "print(\"Extracción: \", np.diag(np.array([ [1, 0], [0, 2]])))\n",
    "print(\"Identidad:\\n\", np.eye(2))"
   ]
  },
  {
   "attachments": {},
   "cell_type": "markdown",
   "metadata": {},
   "source": [
    "## Matrices triangulares"
   ]
  },
  {
   "cell_type": "code",
   "execution_count": 16,
   "metadata": {},
   "outputs": [
    {
     "name": "stdout",
     "output_type": "stream",
     "text": [
      "[[1 2]\n",
      " [3 4]] \n",
      " [[1 0]\n",
      " [3 4]] \n",
      " [[1 2]\n",
      " [0 4]]\n"
     ]
    }
   ],
   "source": [
    "A = np.arange(1, 5).reshape((2, 2))\n",
    "print(A, \"\\n\", np.tril(A), \"\\n\", np.triu(A))"
   ]
  },
  {
   "attachments": {},
   "cell_type": "markdown",
   "metadata": {},
   "source": [
    "## Matrices definidas positivas\n",
    "\n",
    "Dada una matriz real y simétrica, $\\mathbf{A}\\in\\mathbb{R}^{n\\times n}$, su **forma cuadrática** asociada es:\n",
    "$$f(\\boldsymbol{x})=\\boldsymbol{x}^t\\mathbf{A}\\boldsymbol{x}%\n",
    "=\\sum_{i=1}^n\\sum_{j=1}^nA_{ij}x_ix_j$$\n",
    "* $\\mathbf{A}$ es **definida positiva** ($\\mathbf{A}\\succ 0$ o $\\mathbf{A}> 0$) $~~$ sii $~~$ $f(\\boldsymbol{x}>0)\\;$ para todo $\\boldsymbol{x}$ no nulo\n",
    "* $\\mathbf{A}$ es **semi-definida positiva** ($\\mathbf{A}\\succeq 0$ o $\\mathbf{A}\\geq 0$) $~~$ sii $~~$ $f(\\boldsymbol{x}\\geq 0)\\;$ para todo $\\boldsymbol{x}$ no nulo\n",
    "* $\\mathbf{A}$ es **definida negativa** ($\\mathbf{A}\\prec 0$ o $\\mathbf{A}> 0$) $~~$ sii $~~$ $f(\\boldsymbol{x}<0)\\;$ para todo $\\boldsymbol{x}$ no nulo\n",
    "* $\\mathbf{A}$ es **semi-definida negativa** ($\\mathbf{A}\\preceq 0$ o $\\mathbf{A}\\leq 0$) $~~$ sii $~~$ $f(\\boldsymbol{x}\\leq 0)\\;$ para todo $\\boldsymbol{x}$ no nulo\n",
    "* $\\mathbf{A}$ es **indefinida** si no es semi-definida positiva ni semi-definida negativa\n",
    "\n",
    "\n"
   ]
  },
  {
   "attachments": {},
   "cell_type": "markdown",
   "metadata": {},
   "source": [
    "Si $\\mathbf{A}=\\operatorname{diag}(\\lambda_1,\\dotsc,\\lambda_n)\\;$ con $\\;\\{\\lambda_i>0\\}$, entonces su forma cuadrática es definida positiva:\n",
    "$$f(\\boldsymbol{x})=\\boldsymbol{x}^t\\mathbf{A}\\boldsymbol{x}=\\sum_{i=1}^n\\lambda_ix_i^2>0$$\n",
    "El conjunto de nivel $C_k$ para $f$, $C_k=\\{\\boldsymbol{x}: f(\\boldsymbol{x})=k\\}$, es un hiperelipsoide centrado en el origen de semiejes alineados con los ejes canónicos y longitudes $\\;\\{\\lambda_i/k\\}$."
   ]
  },
  {
   "cell_type": "code",
   "execution_count": 55,
   "metadata": {},
   "outputs": [
    {
     "data": {
      "text/plain": [
       "<matplotlib.colorbar.Colorbar at 0x7f8f0811ea10>"
      ]
     },
     "execution_count": 55,
     "metadata": {},
     "output_type": "execute_result"
    },
    {
     "data": {
      "image/png": "[encoded data removed]",
      "text/plain": [
       "<Figure size 504x504 with 2 Axes>"
      ]
     },
     "metadata": {
      "needs_background": "light"
     },
     "output_type": "display_data"
    }
   ],
   "source": [
    "A, k = np.array([ [1, 0], [0, 2]]), 1\n",
    "x_min = y_min = -2.2\n",
    "x_max = y_max = 2.2\n",
    "x, y = np.meshgrid(np.linspace(x_min, x_max, num=64), np.linspace(y_min, y_max, num=64))\n",
    "X = np.squeeze(np.dstack([np.ravel(x), np.ravel(y)]))\n",
    "Z = np.abs(np.diag(X @ A @ X.T) - k)\n",
    "fig, ax = plt.subplots(figsize=(7, 7))\n",
    "ax.set(aspect='equal', xlim=(x_min, x_max), ylim=(y_min, y_max))\n",
    "ax.axhline(0, color='black'); ax.axvline(0, color='black')\n",
    "extent = x_min, x_max, y_min, y_max\n",
    "ip = ax.imshow(Z.reshape(x.shape), cmap='Greys', interpolation=\"none\", origin='lower', extent=extent)\n",
    "plt.colorbar(ip, ax=ax, shrink=0.8)"
   ]
  }
 ],
 "metadata": {
  "kernelspec": {
   "display_name": "Python 3",
   "language": "python",
   "name": "python3"
  },
  "language_info": {
   "codemirror_mode": {
    "name": "ipython",
    "version": 3
   },
   "file_extension": ".py",
   "mimetype": "text/x-python",
   "name": "python",
   "nbconvert_exporter": "python",
   "pygments_lexer": "ipython3",
   "version": "3.10.6"
  },
  "orig_nbformat": 4
 },
 "nbformat": 4,
 "nbformat_minor": 2
}
