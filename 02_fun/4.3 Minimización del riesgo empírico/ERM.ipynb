{
 "cells": [
  {
   "attachments": {},
   "cell_type": "markdown",
   "metadata": {},
   "source": [
    "# Minimización del riesgo empírico\n",
    "\n",
    "## Definición\n",
    "\n",
    "Generaliza MLE sustituyendo la log-pérdida, \n",
    "$\\ell(\\boldsymbol{y}_n, \\boldsymbol{\\theta}; \\boldsymbol{x}_n)%\n",
    "=-\\log p(\\boldsymbol{y}_n\\mid\\boldsymbol{x}_n, \\boldsymbol{\\theta})$, \n",
    "por una pérdida genérica:\n",
    "$$\\hat{\\boldsymbol{\\theta}}_{\\text{erm}}=\\operatorname*{argmin}_{\\boldsymbol{\\theta}}\\mathcal{L}(\\boldsymbol{\\theta})%\n",
    "=\\frac{1}{N}\\sum_{n=1}^N\\ell(\\boldsymbol{y}_n, \\boldsymbol{\\theta}; \\boldsymbol{x}_n)$$"
   ]
  }
 ],
 "metadata": {
  "language_info": {
   "name": "python"
  },
  "orig_nbformat": 4
 },
 "nbformat": 4,
 "nbformat_minor": 2
}
