{
 "cells": [
  {
   "attachments": {},
   "cell_type": "markdown",
   "metadata": {},
   "source": [
    "# Estimación máximo-verosímil\n",
    "\n",
    "## Definición\n",
    "El **estimador máximo-verosímil** de un vector de parámetros $\\;\\boldsymbol{\\theta}$ con respecto a un conjunto de $N$ datos $\\;\\mathcal{D}=\\{(\\boldsymbol{x}_n,\\boldsymbol{y}_n)\\}$ independientes e idénticamente distribuidos según una fdp (o fp) $\\;p(\\boldsymbol{y}\\mid\\boldsymbol{x}, \\boldsymbol{\\theta})$ es:\n",
    "$$\\begin{align*}\n",
    "\\hat{\\boldsymbol{\\theta}}_{\\text{mle}}%\n",
    "&=\\operatorname*{argmax}\\limits_{\\boldsymbol{\\theta}}\\; \\operatorname{L}(\\boldsymbol{\\theta})%\n",
    "\\quad\\text{con}\\quad%\n",
    "\\operatorname{L}(\\boldsymbol{\\theta})%\n",
    "=p(\\mathcal{D}\\mid\\boldsymbol{\\theta})%\n",
    "=\\prod_{n=1}^N \\;p(\\boldsymbol{y}_n\\mid\\boldsymbol{x}_n, \\boldsymbol{\\theta})\\\\%\n",
    "&=\\operatorname*{argmax}\\limits_{\\boldsymbol{\\theta}}\\; \\operatorname{LL}(\\boldsymbol{\\theta})%\n",
    "\\quad\\text{con}\\quad%\n",
    "\\operatorname{LL}(\\boldsymbol{\\theta})%\n",
    "=\\log \\operatorname{L}(\\boldsymbol{\\theta})%\n",
    "=\\sum_{n=1}^N \\;\\log p(\\boldsymbol{y}_n\\mid\\boldsymbol{x}_n, \\boldsymbol{\\theta})\\\\%\n",
    "&=\\operatorname*{argmin}\\limits_{\\boldsymbol{\\theta}}\\; \\operatorname{NLL}(\\boldsymbol{\\theta})%\n",
    "\\quad\\text{con}\\quad%\n",
    "\\operatorname{NLL}(\\boldsymbol{\\theta})%\n",
    "=-\\operatorname{LL}(\\boldsymbol{\\theta})%\n",
    "=-\\sum_{n=1}^N \\;\\log p(\\boldsymbol{y}_n\\mid\\boldsymbol{x}_n, \\boldsymbol{\\theta})\n",
    "\\end{align*}$$"
   ]
  },
  {
   "attachments": {},
   "cell_type": "markdown",
   "metadata": {},
   "source": [
    "## MLE para la Bernoulli (incondicional)\n",
    "\n",
    "Si $\\;p(\\boldsymbol{y}_n\\mid\\boldsymbol{x}_n, \\boldsymbol{\\theta})%\n",
    "=p(y_n\\mid\\theta)=\\operatorname{Ber}(\\theta)$, entonces \n",
    "$\\;\\hat{\\theta}=\\dfrac{N_1}{N}$ con $\\;N_1=\\mathbb{I}(y_n=1)$."
   ]
  },
  {
   "cell_type": "code",
   "execution_count": 1,
   "metadata": {},
   "outputs": [
    {
     "name": "stdout",
     "output_type": "stream",
     "text": [
      "t = 0.20 y ht = 0.21\n"
     ]
    }
   ],
   "source": [
    "from scipy.stats import bernoulli\n",
    "\n",
    "t, N = 0.20, 100\n",
    "Y = bernoulli(t).rvs(N)\n",
    "ht = Y.mean(axis=0)\n",
    "print('t = {:.2f} y ht = {:.2f}'.format(t, ht))"
   ]
  },
  {
   "attachments": {},
   "cell_type": "markdown",
   "metadata": {},
   "source": [
    "## MLE para la categórica (incondicional)\n",
    "\n",
    "Si $\\;p(\\boldsymbol{y}_n\\mid\\boldsymbol{x}_n, \\boldsymbol{\\theta})%\n",
    "=p(y_n\\mid\\boldsymbol{\\theta})=\\operatorname{Cat}(\\boldsymbol{\\theta})$, entonces \n",
    "$\\;\\hat{\\theta}_c=\\dfrac{N_c}{N}$ con $\\;N_c=\\mathbb{I}(y_n=c)$."
   ]
  },
  {
   "cell_type": "code",
   "execution_count": 2,
   "metadata": {},
   "outputs": [
    {
     "name": "stdout",
     "output_type": "stream",
     "text": [
      "[0.3, 0.2, 0.5] [0.3015 0.1995 0.499 ]\n"
     ]
    }
   ],
   "source": [
    "from scipy.stats import multinomial\n",
    "\n",
    "t, N = [0.3, 0.2, 0.5], 100\n",
    "Y = multinomial(N, t).rvs(N)\n",
    "ht = Y.mean(axis=0) / N\n",
    "print(t, ht)"
   ]
  },
  {
   "attachments": {},
   "cell_type": "markdown",
   "metadata": {},
   "source": [
    "## MLE para la Gaussiana univariada (incondicional)\n",
    "\n",
    "Si $\\;p(\\boldsymbol{y}_n\\mid\\boldsymbol{x}_n, \\boldsymbol{\\theta})%\n",
    "=p(y_n\\mid\\boldsymbol{\\theta})=\\mathcal{N}(\\mu, \\sigma^2)$, entonces \n",
    "$\\;\\hat{\\mu}=\\bar{y}\\;$ y $\\;\\hat{\\sigma}^2=s^2-\\bar{y}^2,\\;$ donde $\\bar{y}$ es la media empírica y $s^2$ es la media de cuadrados empírica."
   ]
  },
  {
   "cell_type": "code",
   "execution_count": 3,
   "metadata": {},
   "outputs": [
    {
     "name": "stdout",
     "output_type": "stream",
     "text": [
      "m=0.0000 v=1.0000 hm=0.0016 hv=1.1327\n"
     ]
    }
   ],
   "source": [
    "import numpy as np\n",
    "from scipy.stats import norm\n",
    "\n",
    "m, v, N = 0.0, 1.0, 100\n",
    "Y = norm(m, v).rvs(N)\n",
    "hm = Y.mean(axis=0) / N\n",
    "s2 = np.dot(Y, Y.T) / N\n",
    "hv = s2 - hm * hm\n",
    "print('m={:.4f} v={:.4f} hm={:.4f} hv={:.4f}'.format(m, v, hm, hv))"
   ]
  },
  {
   "attachments": {},
   "cell_type": "markdown",
   "metadata": {},
   "source": [
    "## MLE para la Gaussiana multivariada (incondicional)\n",
    "\n",
    "Si $\\;p(\\boldsymbol{y}_n\\mid\\boldsymbol{x}_n, \\boldsymbol{\\theta})%\n",
    "=p(\\boldsymbol{y}_n\\mid\\boldsymbol{\\theta})=\\mathcal{N}(\\boldsymbol{\\mu}, \\mathbf{\\Sigma})$, entonces \n",
    "$\\;\\hat{\\boldsymbol{\\mu}}=\\bar{\\boldsymbol{y}}\\;$ y $\\;\\hat{\\mathbf{\\Sigma}}=\\frac{1}{N}\\sum_n(\\boldsymbol{y}_n-\\bar{\\boldsymbol{y}})(\\boldsymbol{y}_n-\\bar{\\boldsymbol{y}})^t=\\frac{1}{N}\\sum_n\\boldsymbol{y}_n\\boldsymbol{y}_n^t-\\hat{\\boldsymbol{\\mu}}\\hat{\\boldsymbol{\\mu}}^t,\\;$ esto es, la media y matriz de covarianzas empíricas."
   ]
  },
  {
   "cell_type": "code",
   "execution_count": 4,
   "metadata": {},
   "outputs": [
    {
     "name": "stdout",
     "output_type": "stream",
     "text": [
      "[0. 0.] [ 0.03528616 -0.02227175] \n",
      " [[2.  1.8]\n",
      " [1.8 2. ]] \n",
      " [[2.26391601 1.98610334]\n",
      " [1.98610334 2.19750929]]\n"
     ]
    }
   ],
   "source": [
    "import numpy as np\n",
    "from scipy.stats import multivariate_normal\n",
    "\n",
    "m = np.array([.0, .0])\n",
    "S = np.array([[2., 1.8], [1.8, 2.]])\n",
    "N = 100\n",
    "Y = multivariate_normal(mean=m, cov=S).rvs(N)\n",
    "hm = Y.mean(axis=0)\n",
    "hS = np.dot(Y.T, Y) / N - np.dot(hm.T, hm)\n",
    "# hS = np.cov(Y, rowvar=False)\n",
    "print(m, hm, \"\\n\", S, \"\\n\", hS)"
   ]
  }
 ],
 "metadata": {
  "kernelspec": {
   "display_name": "Python 3",
   "language": "python",
   "name": "python3"
  },
  "language_info": {
   "codemirror_mode": {
    "name": "ipython",
    "version": 3
   },
   "file_extension": ".py",
   "mimetype": "text/x-python",
   "name": "python",
   "nbconvert_exporter": "python",
   "pygments_lexer": "ipython3",
   "version": "3.10.6"
  },
  "orig_nbformat": 4
 },
 "nbformat": 4,
 "nbformat_minor": 2
}
