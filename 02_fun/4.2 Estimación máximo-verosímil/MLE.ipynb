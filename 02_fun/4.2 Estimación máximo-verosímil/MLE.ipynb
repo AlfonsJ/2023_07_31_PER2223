{
 "cells": [
  {
   "attachments": {},
   "cell_type": "markdown",
   "metadata": {},
   "source": [
    "# Estimación máximo-verosímil\n",
    "\n",
    "## Definición\n",
    "El **estimador máximo-verosímil** de un vector de parámetros $\\;\\boldsymbol{\\theta}$ con respecto a un conjunto de $N$ datos $\\;\\mathcal{D}=\\{(\\boldsymbol{x}_n,\\boldsymbol{y}_n)\\}$ independientes e idénticamente distribuidos según una fdp (o fp) $\\;p(\\boldsymbol{y}\\mid\\boldsymbol{x}, \\boldsymbol{\\theta})$ es:\n",
    "$$\\begin{align*}\n",
    "\\hat{\\boldsymbol{\\theta}}_{\\text{mle}}%\n",
    "&=\\operatorname*{argmax}\\limits_{\\boldsymbol{\\theta}}\\; \\operatorname{L}(\\boldsymbol{\\theta})%\n",
    "\\quad\\text{con}\\quad%\n",
    "\\operatorname{L}(\\boldsymbol{\\theta})%\n",
    "=p(\\mathcal{D}\\mid\\boldsymbol{\\theta})%\n",
    "=\\prod_{n=1}^N \\;p(\\boldsymbol{y}_n\\mid\\boldsymbol{x}_n, \\boldsymbol{\\theta})\\\\%\n",
    "&=\\operatorname*{argmax}\\limits_{\\boldsymbol{\\theta}}\\; \\operatorname{LL}(\\boldsymbol{\\theta})%\n",
    "\\quad\\text{con}\\quad%\n",
    "\\operatorname{LL}(\\boldsymbol{\\theta})%\n",
    "=\\log \\operatorname{L}(\\boldsymbol{\\theta})%\n",
    "=\\sum_{n=1}^N \\;\\log p(\\boldsymbol{y}_n\\mid\\boldsymbol{x}_n, \\boldsymbol{\\theta})\\\\%\n",
    "&=\\operatorname*{argmin}\\limits_{\\boldsymbol{\\theta}}\\; \\operatorname{NLL}(\\boldsymbol{\\theta})%\n",
    "\\quad\\text{con}\\quad%\n",
    "\\operatorname{NLL}(\\boldsymbol{\\theta})%\n",
    "=-\\operatorname{LL}(\\boldsymbol{\\theta})%\n",
    "=-\\sum_{n=1}^N \\;\\log p(\\boldsymbol{y}_n\\mid\\boldsymbol{x}_n, \\boldsymbol{\\theta})\n",
    "\\end{align*}$$"
   ]
  },
  {
   "attachments": {},
   "cell_type": "markdown",
   "metadata": {},
   "source": [
    "## MLE para la Bernoulli\n",
    "\n",
    "Si $\\;p(\\boldsymbol{y}_n\\mid\\boldsymbol{x}_n, \\boldsymbol{\\theta})%\n",
    "=p(y_n\\mid\\theta)=\\operatorname{Ber}(\\theta)$, entonces \n",
    "$\\;\\hat{\\theta}=\\dfrac{N_1}{N}$ con $\\;N_1=\\mathbb{I}(y_n=1)$."
   ]
  },
  {
   "cell_type": "code",
   "execution_count": 1,
   "metadata": {},
   "outputs": [
    {
     "name": "stdout",
     "output_type": "stream",
     "text": [
      "t = 0.20 y ht = 0.12\n"
     ]
    }
   ],
   "source": [
    "from scipy.stats import bernoulli\n",
    "\n",
    "t = 0.20\n",
    "Y = bernoulli(t).rvs(100)\n",
    "ht = Y.mean(axis=0)\n",
    "print('t = {:.2f} y ht = {:.2f}'.format(t, ht))"
   ]
  },
  {
   "attachments": {},
   "cell_type": "markdown",
   "metadata": {},
   "source": [
    "## MLE para la categórica\n",
    "\n",
    "Si $\\;p(\\boldsymbol{y}_n\\mid\\boldsymbol{x}_n, \\boldsymbol{\\theta})%\n",
    "=p(y_n\\mid\\theta)=\\operatorname{Cat}(\\boldsymbol{\\theta})$, entonces \n",
    "$\\;\\hat{\\theta}_c=\\dfrac{N_c}{N}$ con $\\;N_c=\\mathbb{I}(y_n=c)$."
   ]
  },
  {
   "cell_type": "code",
   "execution_count": 2,
   "metadata": {},
   "outputs": [
    {
     "name": "stdout",
     "output_type": "stream",
     "text": [
      "[0.3, 0.2, 0.5] [0.293 0.191 0.516]\n"
     ]
    }
   ],
   "source": [
    "from scipy.stats import multinomial\n",
    "\n",
    "N, t = 10, [0.3, 0.2, 0.5]\n",
    "Y = multinomial(N, t).rvs(100)\n",
    "ht = Y.mean(axis=0) / N\n",
    "print(t, ht)"
   ]
  }
 ],
 "metadata": {
  "kernelspec": {
   "display_name": "Python 3",
   "language": "python",
   "name": "python3"
  },
  "language_info": {
   "codemirror_mode": {
    "name": "ipython",
    "version": 3
   },
   "file_extension": ".py",
   "mimetype": "text/x-python",
   "name": "python",
   "nbconvert_exporter": "python",
   "pygments_lexer": "ipython3",
   "version": "3.10.6"
  },
  "orig_nbformat": 4
 },
 "nbformat": 4,
 "nbformat_minor": 2
}
