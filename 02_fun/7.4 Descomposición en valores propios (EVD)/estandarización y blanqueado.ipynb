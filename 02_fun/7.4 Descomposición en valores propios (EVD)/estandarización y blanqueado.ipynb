{
 "cells": [
  {
   "attachments": {},
   "cell_type": "markdown",
   "metadata": {},
   "source": [
    "# Estandarización y blanqueado de datos\n",
    "\n",
    "## Estandarización\n",
    "\n",
    "Dada una matriz de datos $\\mathbf{X}\\in\\mathbb{R}^{N\\times D}$, transformamos cada columna restando su media y dividiendo por su desviación típica; así, las variables estandarizadas tienen media nula y varianza unitaria."
   ]
  },
  {
   "attachments": {},
   "cell_type": "markdown",
   "metadata": {},
   "source": [
    "**Ejemplo:** $\\mathbf{X}^t=\\begin{bmatrix}-1&0&2&3\\\\-1&2&0&3\\end{bmatrix}$"
   ]
  },
  {
   "cell_type": "code",
   "execution_count": 8,
   "metadata": {},
   "outputs": [
    {
     "name": "stdout",
     "output_type": "stream",
     "text": [
      "Media:  [1. 1.] \n",
      "Datos centrados:\n",
      " [[-2. -2.]\n",
      " [-1.  1.]\n",
      " [ 1. -1.]\n",
      " [ 2.  2.]] \n",
      "Datos estandarizados:\n",
      " [[-1.26491106 -1.26491106]\n",
      " [-0.63245553  0.63245553]\n",
      " [ 0.63245553 -0.63245553]\n",
      " [ 1.26491106  1.26491106]]\n"
     ]
    }
   ],
   "source": [
    "import numpy as np\n",
    "\n",
    "X = np.array([ [-1, -1], [0, 2], [2, 0], [3, 3] ])\n",
    "m = np.mean(X, axis=0)\n",
    "X_centrada = X - m\n",
    "s = np.std(X, axis=0)\n",
    "X_std = X_centrada / s\n",
    "print(\"Media: \", m, \"\\nDatos centrados:\\n\", X_centrada, \"\\nDatos estandarizados:\\n\", X_std)"
   ]
  },
  {
   "cell_type": "code",
   "execution_count": 16,
   "metadata": {},
   "outputs": [
    {
     "data": {
      "image/png": "[encoded data removed]",
      "text/plain": [
       "<Figure size 864x432 with 2 Axes>"
      ]
     },
     "metadata": {
      "needs_background": "light"
     },
     "output_type": "display_data"
    }
   ],
   "source": [
    "import matplotlib.pyplot as plt\n",
    "\n",
    "fig, axes = plt.subplots(1, 2, figsize=(12, 6))\n",
    "# datos originales\n",
    "axes[0].set(aspect='equal', xlim=(-2, 4), ylim=(-2, 4)); axes[0].grid()\n",
    "axes[0].scatter(m[0], m[1], facecolor='C0', edgecolor='k', s=100, marker=\"X\")\n",
    "prop = dict(arrowstyle=\"-|>,head_width=0.4,head_length=0.8\", shrinkA=0, shrinkB=0)\n",
    "axes[0].annotate(\"\", xytext=(m[0], m[1]), xy=(m[0]+s[0], m[1]), arrowprops=prop)\n",
    "axes[0].annotate(\"\", xytext=(m[0], m[1]), xy=(m[0], m[1]+s[1]), arrowprops=prop)\n",
    "axes[0].scatter(X[:,0], X[:,1], facecolor='C0', edgecolor='k', s=100)\n",
    "# datos estandarizados\n",
    "axes[1].set(aspect='equal', xlim=(-2, 2), ylim=(-2, 2)); axes[1].grid()\n",
    "axes[1].scatter(0, 0, facecolor='C1', edgecolor='k', s=100, marker=\"X\")\n",
    "prop.update(color='C1')\n",
    "axes[1].annotate(\"\", xytext=(0, 0), xy=(1, 0), arrowprops=prop)\n",
    "axes[1].annotate(\"\", xytext=(0, 0), xy=(0, 1), arrowprops=prop)\n",
    "axes[1].scatter(X_std[:,0], X_std[:,1], facecolor='C1', edgecolor='k', s=100);"
   ]
  }
 ],
 "metadata": {
  "kernelspec": {
   "display_name": "Python 3",
   "language": "python",
   "name": "python3"
  },
  "language_info": {
   "codemirror_mode": {
    "name": "ipython",
    "version": 3
   },
   "file_extension": ".py",
   "mimetype": "text/x-python",
   "name": "python",
   "nbconvert_exporter": "python",
   "pygments_lexer": "ipython3",
   "version": "3.10.6"
  },
  "orig_nbformat": 4
 },
 "nbformat": 4,
 "nbformat_minor": 2
}
