{
 "cells": [
  {
   "attachments": {},
   "cell_type": "markdown",
   "metadata": {},
   "source": [
    "# Distribución Gaussiana multivariada\n",
    "\n",
    "## Distancia de Mahalanobis"
   ]
  },
  {
   "attachments": {},
   "cell_type": "markdown",
   "metadata": {},
   "source": [
    "La densidad Gaussiana multivariada puede reescribirse como:\n",
    "$$p(\\boldsymbol{y}\\mid\\boldsymbol{\\mu},\\mathbf{\\Sigma})=%\n",
    "\\frac{1}{(2\\pi)^{D/2}\\lvert\\boldsymbol{\\Sigma}\\rvert^{1/2}}%\n",
    "\\exp\\left[-\\frac{1}{2}\\Delta^2(\\boldsymbol{y},\\boldsymbol{\\mu};\\boldsymbol{\\Sigma}^{-1})\\right]$$\n",
    "donde $\\Delta^2(\\boldsymbol{y},\\boldsymbol{\\mu};\\boldsymbol{\\Sigma}^{-1})$ es el cuadrado de la **distancia de Mahalanobis** entre $\\boldsymbol{y}$ y $\\boldsymbol{\\mu}$ con respecto a $\\boldsymbol{\\Sigma}^{-1}$,\n",
    "$$\\Delta^2(\\boldsymbol{y},\\boldsymbol{\\mu};\\boldsymbol{\\Sigma}^{-1})%\n",
    "=(\\boldsymbol{y}-\\boldsymbol{\\mu})^t\\boldsymbol{\\Sigma}^{-1}(\\boldsymbol{y}-\\boldsymbol{\\mu})$$\n",
    "Si $\\boldsymbol{\\Sigma}$ es definida positiva, su inversa también lo es y puede descomponerse como \n",
    "$\\boldsymbol{\\Sigma}^{-1}=\\boldsymbol{W}\\boldsymbol{W}^t$, $\\boldsymbol{W}$ matriz cuadrada real, por lo que:\n",
    "$$\\Delta^2(\\boldsymbol{y},\\boldsymbol{\\mu};\\boldsymbol{\\Sigma}^{-1})%\n",
    "=(\\boldsymbol{y}-\\boldsymbol{\\mu})^t\\boldsymbol{W}\\boldsymbol{W}^t(\\boldsymbol{y}-\\boldsymbol{\\mu})%\n",
    "=(\\boldsymbol{W}^t(\\boldsymbol{y}-\\boldsymbol{\\mu}))^t\\boldsymbol{W}^t(\\boldsymbol{y}-\\boldsymbol{\\mu})%\n",
    "=\\lVert\\boldsymbol{z}\\rVert_2^2%\n",
    "\\quad\\text{con}\\quad%\n",
    "\\boldsymbol{z}=\\boldsymbol{W}^t(\\boldsymbol{y}-\\boldsymbol{\\mu})$$\n",
    "Esto es, la distancia de Mahalanobis se reduce a la distancia Euclídea tras aplicar una transformación afín."
   ]
  },
  {
   "cell_type": "markdown",
   "metadata": {},
   "source": [
    "El cálculo de $\\mathbf{W}$ puede hacerse a partir de la descomposición propia de $\\boldsymbol{\\Sigma}$,\n",
    "$$\\boldsymbol{\\Sigma}=\\mathbf{U}\\boldsymbol{\\Lambda}\\mathbf{U}^{-1}$$"
   ]
  }
 ],
 "metadata": {
  "kernelspec": {
   "display_name": "Python 3",
   "language": "python",
   "name": "python3"
  },
  "language_info": {
   "codemirror_mode": {
    "name": "ipython",
    "version": 3
   },
   "file_extension": ".py",
   "mimetype": "text/x-python",
   "name": "python",
   "nbconvert_exporter": "python",
   "pygments_lexer": "ipython3",
   "version": "3.10.6"
  },
  "orig_nbformat": 4,
  "vscode": {
   "interpreter": {
    "hash": "e7370f93d1d0cde622a1f8e1c04877d8463912d04d973331ad4851f04de6915a"
   }
  }
 },
 "nbformat": 4,
 "nbformat_minor": 2
}
