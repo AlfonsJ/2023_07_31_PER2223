{
 "cells": [
  {
   "attachments": {},
   "cell_type": "markdown",
   "metadata": {},
   "source": [
    "# Descomposición en valores singulares (SVD)"
   ]
  },
  {
   "attachments": {},
   "cell_type": "markdown",
   "metadata": {},
   "source": [
    "## Definición\n",
    "\n",
    "La SVD generaliza la EVD a matrices rectangulares, del tipo $\\mathbf{A}\\in\\mathbf{R}^{m\\times n}$:\n",
    "$$\\mathbf{A}=\\mathbf{U}\\mathbf{S}\\mathbf{V}^t%\n",
    "=\\sigma_1\\boldsymbol{u}_1\\boldsymbol{v}_1^t+\\cdots+\\sigma_r\\boldsymbol{u}_r\\boldsymbol{v}_r^t$$\n",
    "* $\\mathbf{U}\\in\\mathbf{R}^{m\\times m}$ es una matriz de columnas ortonormales ($\\mathbf{U}^t\\mathbf{U}=\\mathbf{I}$) que llamamos **vectores singulares izquierdos**\n",
    "* $\\mathbf{S}\\in\\mathbf{R}^{m\\times n}$ incluye $r=\\min(m, n)$ **valores singulares** $\\sigma_i\\geq 0$ en su diagonal; ceros en el resto\n",
    "* $\\mathbf{V}\\in\\mathbf{R}^{n\\times n}$ es una matriz de filas y columnas ortonormales ($\\mathbf{V}^t\\mathbf{V}=\\mathbf{V}\\mathbf{V}^t=\\mathbf{I}$); sus columnas son los **vectores singulares derechos**"
   ]
  },
  {
   "attachments": {},
   "cell_type": "markdown",
   "metadata": {},
   "source": [
    "## Conexión entre la SVD y la EVD\n",
    "\n",
    "Si $\\mathbf{A}$ es una matriz cuadrada, real, simétrica y definida positiva, se cumple que:\n",
    "* Los valores singulares son los valores propios\n",
    "* Los vectores singulares izquierdos y derechos son los vectores propios (salvo cambios de signo):\n",
    "$$\\;\\mathbf{A}=\\mathbf{U}\\mathbf{S}\\mathbf{V}^t=\\mathbf{U}\\mathbf{S}\\mathbf{U}^t=\\mathbf{U}\\mathbf{S}\\mathbf{U}^{-1}$$"
   ]
  },
  {
   "cell_type": "code",
   "execution_count": 4,
   "metadata": {},
   "outputs": [
    {
     "name": "stdout",
     "output_type": "stream",
     "text": [
      "EVD:\n",
      " [4. 1.] \n",
      " [[ 0.70710678  0.70710678]\n",
      " [-0.70710678  0.70710678]] \n",
      "\n",
      "SVD:\n",
      " [[-0.70710678 -0.70710678]\n",
      " [-0.70710678  0.70710678]] \n",
      " [4. 1.] \n",
      " [[-0.70710678 -0.70710678]\n",
      " [-0.70710678  0.70710678]]\n"
     ]
    }
   ],
   "source": [
    "import numpy as np\n",
    "\n",
    "A = np.array([ [5/2, 3/2], [3/2, 5/2] ])\n",
    "L, E = np.linalg.eigh(A) # L (y E) en orden no descendente\n",
    "L, E = L[::-1], E[::-1] # L (y E) en orden no ascendente\n",
    "print(\"EVD:\\n\", L, \"\\n\", E, \"\\n\")\n",
    "U, S, Vt = np.linalg.svd(A)\n",
    "print(\"SVD:\\n\", U, \"\\n\", S, \"\\n\", Vt)"
   ]
  },
  {
   "attachments": {},
   "cell_type": "markdown",
   "metadata": {},
   "source": [
    "## SVD truncada\n",
    "\n",
    "Sea $\\mathbf{A}=\\mathbf{U}\\mathbf{S}\\mathbf{V}^t$ la SVD de una matriz $\\mathbf{A}\\in\\mathbf{R}^{m\\times n}$. Sea\n",
    "$\\mathbf{\\hat{A}}_K=\\mathbf{U}_K\\mathbf{S}_K\\mathbf{V}_K^t$ una aproximación de $\\mathbf{A}$ de rango $K$ construida a partir de sus $K$ mayores valores singulares, junto con sus $K$ vectores singulares asociados, izquierdos y derechos.\n",
    "Se puede comprobar que $\\mathbf{\\hat{A}}_K$ es la mejor aproximación de $\\mathbf{A}$ en norma Frobenius (al cuadrado),\n",
    "$\\lVert\\mathbf{A}-\\hat{\\mathbf{A}}_K\\rVert_F^2$.\n",
    "\n"
   ]
  }
 ],
 "metadata": {
  "kernelspec": {
   "display_name": "Python 3",
   "language": "python",
   "name": "python3"
  },
  "language_info": {
   "codemirror_mode": {
    "name": "ipython",
    "version": 3
   },
   "file_extension": ".py",
   "mimetype": "text/x-python",
   "name": "python",
   "nbconvert_exporter": "python",
   "pygments_lexer": "ipython3",
   "version": "3.10.6"
  },
  "orig_nbformat": 4
 },
 "nbformat": 4,
 "nbformat_minor": 2
}
