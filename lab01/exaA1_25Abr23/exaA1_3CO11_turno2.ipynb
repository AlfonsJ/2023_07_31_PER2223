{
 "cells": [
  {
   "attachments": {},
   "cell_type": "markdown",
   "metadata": {},
   "source": [
    "# Percepción (PER): examen de prácticas del bloque 1, grupo 3CO11, turno 2, 25-4-2023, 8:45-9:30\n",
    "\n",
    "Lee este cuaderno y realiza las actividades y ejercicios propuestos."
   ]
  },
  {
   "attachments": {},
   "cell_type": "markdown",
   "metadata": {},
   "source": [
    "## Importación de librerías relevantes\n",
    "\n",
    "Como sabes, sklearn facilita el aprendizaje y evaluación de clasificadores discriminativos en digits. Ejecuta el código siguiente para importar librerías relevantes:"
   ]
  },
  {
   "cell_type": "code",
   "execution_count": 1,
   "metadata": {},
   "outputs": [],
   "source": [
    "import numpy as np\n",
    "import matplotlib.pyplot as plt\n",
    "from scipy.stats import multivariate_normal\n",
    "from sklearn.datasets import load_digits\n",
    "from sklearn.model_selection import train_test_split\n",
    "from sklearn.linear_model import Perceptron, LogisticRegression\n",
    "from sklearn.metrics import accuracy_score\n",
    "from sklearn.decomposition import PCA\n",
    "from sklearn.preprocessing import StandardScaler, PolynomialFeatures\n",
    "from sklearn.pipeline import make_pipeline"
   ]
  },
  {
   "attachments": {},
   "cell_type": "markdown",
   "metadata": {},
   "source": [
    "## Lectura del corpus digits\n",
    "\n",
    "Ejecuta el código siguiente con random_state igual a las tres últimas cifras de tu DNI/NIE:"
   ]
  },
  {
   "cell_type": "code",
   "execution_count": 2,
   "metadata": {},
   "outputs": [
    {
     "name": "stdout",
     "output_type": "stream",
     "text": [
      "(449, 64) (449,)\n"
     ]
    }
   ],
   "source": [
    "digits = load_digits()\n",
    "X = digits.data\n",
    "y = digits.target\n",
    "X_train, X_test, y_train, y_test = train_test_split(\n",
    "    digits.data, digits.target, test_size=0.75, shuffle=True, random_state=123)\n",
    "print(X_train.shape, y_train.shape)"
   ]
  },
  {
   "attachments": {},
   "cell_type": "markdown",
   "metadata": {},
   "source": [
    "## Perceptrón\n",
    "\n",
    "Ejecuta el código siguiente para estudiar la precisión de Perceptrón con penalización L2 en función de alpha:"
   ]
  },
  {
   "cell_type": "code",
   "execution_count": 3,
   "metadata": {},
   "outputs": [
    {
     "name": "stdout",
     "output_type": "stream",
     "text": [
      "La precisión de Perceptron(alpha=1e-08, penalty='l2') es 92.5%\n",
      "La precisión de Perceptron(alpha=1e-07, penalty='l2') es 92.5%\n",
      "La precisión de Perceptron(alpha=1e-06, penalty='l2') es 92.4%\n",
      "La precisión de Perceptron(alpha=1e-05, penalty='l2') es 90.9%\n",
      "La precisión de Perceptron(penalty='l2') es 92.8%\n",
      "La precisión de Perceptron(alpha=0.001, penalty='l2') es 60.8%\n"
     ]
    }
   ],
   "source": [
    "for a in np.logspace(-8,-3,6):\n",
    "    clf = Perceptron(penalty='l2', alpha=a, random_state=0).fit(X_train, y_train)\n",
    "    acc = accuracy_score(y_test, clf.predict(X_test))\n",
    "    print('La precisión de {0!s} es {1:.1%}'.format(clf, acc))"
   ]
  },
  {
   "attachments": {},
   "cell_type": "markdown",
   "metadata": {},
   "source": [
    "## Regresión logística\n",
    "\n",
    "Añade una celda de código para estudiar regresión logística con solver lbfgs, en función del preproceso. Aparte de características polinómicas (de grado 2 a lo sumo), el preproceso de características puede incluir estandarización (StandardScaler) y reducción de la dimensión (PCA). Determina una configuración del preproceso que obtenga máxima precisión."
   ]
  },
  {
   "cell_type": "code",
   "execution_count": 4,
   "metadata": {},
   "outputs": [
    {
     "name": "stdout",
     "output_type": "stream",
     "text": [
      "degree 1 standardize False components 8: 88.4% acc\n",
      "degree 1 standardize True components 8: 85.6% acc\n",
      "degree 1 standardize False components 16: 92.7% acc\n",
      "degree 1 standardize True components 16: 92.9% acc\n",
      "degree 1 standardize False components 32: 94.4% acc\n",
      "degree 1 standardize True components 32: 94.4% acc\n",
      "degree 1 standardize False components 64: 94.7% acc\n",
      "degree 1 standardize True components 64: 95.1% acc\n",
      "degree 1 standardize False components 0: 94.7% acc\n",
      "degree 1 standardize True components 0: 95.1% acc\n",
      "degree 2 standardize False components 8: 86.5% acc\n",
      "degree 2 standardize True components 8: 62.6% acc\n",
      "degree 2 standardize False components 16: 91.9% acc\n",
      "degree 2 standardize True components 16: 80.0% acc\n",
      "degree 2 standardize False components 32: 94.4% acc\n",
      "degree 2 standardize True components 32: 86.5% acc\n",
      "degree 2 standardize False components 64: 95.3% acc\n",
      "degree 2 standardize True components 64: 92.1% acc\n",
      "degree 2 standardize False components 0: 96.7% acc\n",
      "degree 2 standardize True components 0: 96.3% acc\n"
     ]
    }
   ],
   "source": [
    "def lr_exp(standardize=True, degree=1, n_components=0):\n",
    "    clf = make_pipeline(StandardScaler() if standardize else None, \n",
    "    PolynomialFeatures(degree=degree),\n",
    "    PCA(n_components=n_components) if n_components > 0 else None,\n",
    "    LogisticRegression(max_iter=10000, solver='lbfgs', n_jobs=8)).fit(X_train, y_train)\n",
    "    y_pred = clf.predict(X_test)\n",
    "    return accuracy_score(y_test, y_pred)\n",
    "\n",
    "for degree in [1, 2]:\n",
    "    for n_components in [8, 16, 32, 64, 128, 256, 0]:\n",
    "        if n_components <= min(X_train.shape): \n",
    "            for standardize in [False, True]:\n",
    "                acc = lr_exp(standardize=standardize, degree=degree, n_components=n_components)\n",
    "                print('degree {0:} standardize {1:} components {2:}: {3:.1%} acc'.format(degree, standardize, n_components, acc))"
   ]
  }
 ],
 "metadata": {
  "kernelspec": {
   "display_name": "Python 3",
   "language": "python",
   "name": "python3"
  },
  "language_info": {
   "codemirror_mode": {
    "name": "ipython",
    "version": 3
   },
   "file_extension": ".py",
   "mimetype": "text/x-python",
   "name": "python",
   "nbconvert_exporter": "python",
   "pygments_lexer": "ipython3",
   "version": "3.10.6"
  },
  "vscode": {
   "interpreter": {
    "hash": "e7370f93d1d0cde622a1f8e1c04877d8463912d04d973331ad4851f04de6915a"
   }
  }
 },
 "nbformat": 4,
 "nbformat_minor": 4
}
