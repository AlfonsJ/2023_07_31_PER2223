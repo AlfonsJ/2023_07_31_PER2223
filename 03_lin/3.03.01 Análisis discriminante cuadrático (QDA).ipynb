{
 "cells": [
  {
   "attachments": {},
   "cell_type": "markdown",
   "metadata": {},
   "source": [
    "# Análisis discriminante cuadrático (QDA)\n",
    "\n",
    "**Análisis discriminante Gaussiano (GDA)** asume que las posteriors pueden expresarse con un modelo generativo de densidades condicionales Gaussianas:\n",
    "$$p(y=c\\mid\\boldsymbol{x};\\boldsymbol{\\theta})%\n",
    "\\propto p(y=c;\\boldsymbol{\\theta})\\,p(\\boldsymbol{x}\\mid y=c;\\boldsymbol{\\theta})%\n",
    "=\\pi_c\\,\\mathcal{N}_D(\\boldsymbol{\\mu}_c,\\mathbf{\\Sigma}_c)$$\n",
    "Vista como función de la entrada $\\boldsymbol{x}$, la log-posterior recibe el nombre de **función discriminante** ya que permite discriminar clases de posterior máxima:\n",
    "$$\\log p(y=c\\mid\\boldsymbol{x};\\boldsymbol{\\theta})%\n",
    "=\\log\\pi_c-\\frac{D}{2}\\log(2\\pi)-\\frac{1}{2}\\log\\vert\\mathbf{\\Sigma}_c\\vert\n",
    "-\\frac{1}{2}(\\boldsymbol{x}-\\boldsymbol{\\mu}_c)^t\\mathbf{\\Sigma}_c^{-1}(\\boldsymbol{x}-\\boldsymbol{\\mu}_c)$$\n",
    "**Análisis discriminante cuadrático (QDA)** emplea estas funciones discriminantes para clasificar; el calificativo cuadrático se debe a que las discriminantes son cuadráticas con la entrada $\\boldsymbol{x}$:\n",
    "$$\\begin{align*}\n",
    "\\log p(y=c\\mid\\boldsymbol{x};\\boldsymbol{\\theta})%\n",
    "&=\\boldsymbol{x}^t\\mathbf{A}_c\\boldsymbol{x}+\\boldsymbol{\\beta}_c^t\\boldsymbol{x}+\\gamma_c+\\kappa\\\\%\n",
    "\\mathbf{A}_c&=-\\frac{1}{2}\\mathbf{\\Sigma}_c^{-1}\\\\%\n",
    "\\boldsymbol{\\beta}_c&=\\boldsymbol{\\mu}_c^t\\mathbf{\\Sigma}_c^{-1}\\\\%\n",
    "\\gamma_c&=\\log\\pi_c-\\frac{1}{2}\\log\\vert\\mathbf{\\Sigma}_c\\vert-\\frac{1}{2}\\boldsymbol{\\mu}_c^t\\mathbf{\\Sigma}_c^{-1}\\boldsymbol{\\mu}_c\\\\%\n",
    "\\kappa&=-\\frac{D}{2}\\log(2\\pi)%\n",
    "\\end{align*}$$\n",
    "Claramente, el término $\\kappa$ puede ignorarse al determinar una clase de posterior máxima."
   ]
  }
 ],
 "metadata": {
  "language_info": {
   "name": "python"
  },
  "orig_nbformat": 4
 },
 "nbformat": 4,
 "nbformat_minor": 2
}
