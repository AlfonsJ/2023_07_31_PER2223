{
 "cells": [
  {
   "attachments": {},
   "cell_type": "markdown",
   "metadata": {},
   "source": [
    "# Análisis discriminante: ajuste del modelo\n",
    "\n",
    "## Análisis discriminante cuadrático\n",
    "\n",
    "Al igual que naive Bayes, QDA se ajusta mediante maximización de la log-verosimilitud conjunta:\n",
    "$$\\begin{align*}\n",
    "\\log p(\\mathcal{D}\\mid\\boldsymbol{\\theta})%\n",
    "&=\\sum_c N_c\\log\\pi_c + \\sum_c\\sum_{n:y_n=c}\\log \\mathcal{N}(\\boldsymbol{x}_n\\mid \\boldsymbol{\\mu}_c,\\mathbf{\\Sigma}_c)\\\\%\n",
    "\\end{align*}$$\n",
    "De nuevo tenemos que la maximización puede hacerse separadamente. Por un lado, la maximización en $\\boldsymbol{\\pi}$ da lugar a las bien conocidas proporciones de datos de entrenamiento por clase. Por otro lado, la maximización del resto de parámetros puede hacerse separadamente, clase a clase, ya que el MLE de $\\boldsymbol{\\mu}_c$ y $\\mathbf{\\Sigma}_c$ solo dependen de los datos de entrenamiento de clase $c$, para todo $c$."
   ]
  }
 ],
 "metadata": {
  "kernelspec": {
   "display_name": "Python 3",
   "language": "python",
   "name": "python3"
  },
  "language_info": {
   "codemirror_mode": {
    "name": "ipython",
    "version": 3
   },
   "file_extension": ".py",
   "mimetype": "text/x-python",
   "name": "python",
   "nbconvert_exporter": "python",
   "pygments_lexer": "ipython3",
   "version": "3.10.6"
  },
  "orig_nbformat": 4
 },
 "nbformat": 4,
 "nbformat_minor": 2
}
