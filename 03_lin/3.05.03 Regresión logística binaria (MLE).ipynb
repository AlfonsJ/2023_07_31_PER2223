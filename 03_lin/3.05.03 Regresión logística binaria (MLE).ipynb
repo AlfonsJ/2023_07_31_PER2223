{
 "cells": [
  {
   "attachments": {},
   "cell_type": "markdown",
   "metadata": {},
   "source": [
    "# Regresión logística binaria: estimación máximo-verosímil"
   ]
  },
  {
   "attachments": {},
   "cell_type": "markdown",
   "metadata": {},
   "source": [
    "## Objetivo\n",
    "\n",
    "Sea un modelo de regresión logística binaria $p(y\\mid\\boldsymbol{x}, \\boldsymbol{\\theta})=\\operatorname{Ber}(y\\mid\\sigma(a))\\;$, $y\\in\\{0,1\\}$, con $\\;\\mu=\\sigma(a)\\;$ y $\\;a=\\boldsymbol{w}^t\\boldsymbol{x},\\;$ en el que asumimos que $\\boldsymbol{w}$ absorbe el sesgo $b$. La log-verosimilitud negativa de $\\boldsymbol{w}$ respecto a $N$ datos $\\mathcal{D}=\\{(\\boldsymbol{x}_n,y_n)\\}\\;$ (normalizada por $N$) es:\n",
    "$$\\begin{align*}\n",
    "\\operatorname{NLL}(\\boldsymbol{w})%\n",
    "&=-\\frac{1}{N}\\log p(\\mathcal{D}\\mid\\boldsymbol{w})\\\\%\n",
    "&=-\\frac{1}{N}\\log \\prod_{n=1}^N \\operatorname{Ber}(y_n\\mid \\mu_n)%\n",
    "&&\\text{($\\mu_n=\\sigma(a_n)$ con logit $a_n=\\boldsymbol{w}^t\\boldsymbol{x}_n$)}\\\\%\n",
    "&=-\\frac{1}{N}\\sum_{n=1}^N \\log(\\mu_n^{y_n}\\,(1-\\mu_n)^{(1-y_n)})\\\\%\n",
    "&=-\\frac{1}{N}\\sum_{n=1}^N y_n\\log\\mu_n + (1-y_n)\\log(1-\\mu_n)\\\\%\n",
    "&=\\frac{1}{N}\\sum_{n=1}^N \\mathbb{H}(y_n,\\mu_n)%\n",
    "&&\\text{($\\mathbb{H}$ entropía cruzada)}%\n",
    "\\end{align*}$$"
   ]
  },
  {
   "attachments": {},
   "cell_type": "markdown",
   "metadata": {},
   "source": [
    "## Gradiente\n",
    "\n",
    "Es fácil comprobar que el gradiente del objetivo es:\n",
    "$$\\mathbf{\\nabla}_{\\boldsymbol{w}}\\operatorname{NLL}(\\boldsymbol{w})=\\frac{1}{N}\\sum_{n=1}^N(\\mu_n-y_n)\\boldsymbol{x}_n$$"
   ]
  }
 ],
 "metadata": {
  "kernelspec": {
   "display_name": "Python 3",
   "language": "python",
   "name": "python3"
  },
  "language_info": {
   "codemirror_mode": {
    "name": "ipython",
    "version": 3
   },
   "file_extension": ".py",
   "mimetype": "text/x-python",
   "name": "python",
   "nbconvert_exporter": "python",
   "pygments_lexer": "ipython3",
   "version": "3.10.6"
  },
  "orig_nbformat": 4
 },
 "nbformat": 4,
 "nbformat_minor": 2
}
