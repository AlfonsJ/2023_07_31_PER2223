{
 "cells": [
  {
   "attachments": {},
   "cell_type": "markdown",
   "metadata": {},
   "source": [
    "# LDA: conexión con regresión logística\n",
    "\n",
    "Como en el caso de naive Bayes, es fácil comprobar que LDA coincide con regresión logística (multiclase):\n",
    "$$p(y=c\\mid\\boldsymbol{x};\\boldsymbol{\\theta})%\n",
    "\\propto\\exp(\\boldsymbol{\\beta}_c^t\\boldsymbol{x}+\\gamma_c)%\n",
    "\\quad\\text{con}\\quad%\n",
    "\\boldsymbol{\\beta}_c=\\mathbf{\\Sigma}^{-1}\\boldsymbol{\\mu}_c%\n",
    "\\quad\\text{y}\\quad%\n",
    "\\gamma_c=\\log\\pi_c-\\frac{1}{2}\\boldsymbol{\\mu}_c^t\\mathbf{\\Sigma}^{-1}\\boldsymbol{\\mu}_c$$\n",
    "\n",
    "También como en el caso de naive Bayes, la diferencia esencial entre ambos reside en el criterio de entrenamiento:\n",
    "* LDA se entrena optimizando la verosimilitud conjunta, $\\;\\prod_n p(y_n, \\boldsymbol{x}_n, \\boldsymbol{\\theta})$\n",
    "* Regresión logística se entrena optimizando la verosimilitud condicional, $\\;\\prod_n p(y_n\\mid\\boldsymbol{x}_n, \\boldsymbol{\\theta})$"
   ]
  }
 ],
 "metadata": {
  "kernelspec": {
   "display_name": "Python 3",
   "language": "python",
   "name": "python3"
  },
  "language_info": {
   "codemirror_mode": {
    "name": "ipython",
    "version": 3
   },
   "file_extension": ".py",
   "mimetype": "text/x-python",
   "name": "python",
   "nbconvert_exporter": "python",
   "pygments_lexer": "ipython3",
   "version": "3.10.6"
  },
  "orig_nbformat": 4
 },
 "nbformat": 4,
 "nbformat_minor": 2
}
