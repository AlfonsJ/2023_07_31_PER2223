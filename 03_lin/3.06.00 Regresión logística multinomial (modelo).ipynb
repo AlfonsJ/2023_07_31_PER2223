{
 "cells": [
  {
   "attachments": {},
   "cell_type": "markdown",
   "metadata": {},
   "source": [
    "# Regresión logística multinomial: modelo\n",
    "\n",
    "Regresión logística multinomial es una categórica condicional para clasificación multiclase, $y\\in\\{1,\\dotsc,C\\}$,\n",
    "$$p(y\\mid\\boldsymbol{x}, \\boldsymbol{\\theta})%\n",
    "=\\operatorname{Cat}(y\\mid S(\\boldsymbol{a})),$$\n",
    "de logits lineales con la entrada,\n",
    "$$\\boldsymbol{a}=f(\\boldsymbol{x};\\boldsymbol{\\theta})=\\mathbf{W}\\boldsymbol{x}+\\boldsymbol{b}%\n",
    "\\qquad\\text{con}\\qquad%\n",
    "\\boldsymbol{\\theta}=(\\mathbf{W}, \\boldsymbol{b}), %\n",
    "\\quad\\mathbf{W}\\in\\mathbb{R}^{C\\times D}, %\n",
    "\\quad\\boldsymbol{b}\\in\\mathbb{R}^D$$\n",
    "En notación homogénea, anteponiendo un $1$ a $\\boldsymbol{x}$ y $\\boldsymbol{b}$ a $\\mathbf{W}$,\n",
    "$$\\boldsymbol{a}=f(\\boldsymbol{x};\\boldsymbol{\\theta})=\\mathbf{W}\\boldsymbol{x}$$"
   ]
  }
 ],
 "metadata": {
  "kernelspec": {
   "display_name": "Python 3",
   "language": "python",
   "name": "python3"
  },
  "language_info": {
   "codemirror_mode": {
    "name": "ipython",
    "version": 3
   },
   "file_extension": ".py",
   "mimetype": "text/x-python",
   "name": "python",
   "nbconvert_exporter": "python",
   "pygments_lexer": "ipython3",
   "version": "3.10.6"
  },
  "orig_nbformat": 4
 },
 "nbformat": 4,
 "nbformat_minor": 2
}
