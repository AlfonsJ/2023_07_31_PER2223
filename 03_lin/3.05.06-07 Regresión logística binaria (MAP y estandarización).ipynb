{
 "cells": [
  {
   "attachments": {},
   "cell_type": "markdown",
   "metadata": {},
   "source": [
    "# Regresión logística binaria: estimación MAP y estandarización"
   ]
  },
  {
   "attachments": {},
   "cell_type": "markdown",
   "metadata": {},
   "source": [
    "La regularización $\\ell_2$ de regresión logística binaria consiste en asumir un prior Gaussiano para $\\boldsymbol{w}$,\n",
    "$$p(\\boldsymbol{w})=\\mathcal{N}(\\boldsymbol{w}\\mid\\boldsymbol{0},\\lambda^{-1}\\mathbf{I})$$\n",
    "y minimizar la log-verosimilitud negativa penalizada para hallar un estimador MAP de $\\boldsymbol{w}$,\n",
    "$$\\begin{align*}\n",
    "\\boldsymbol{w}_{\\text{map}}%\n",
    "&=\\operatorname*{argmax}_{\\boldsymbol{w}}\\;p(\\boldsymbol{w}\\mid\\mathcal{D})\\\\%\n",
    "&=\\operatorname*{argmax}_{\\boldsymbol{w}}\\;\\log p(\\mathcal{D}\\mid\\boldsymbol{w})+\\log p(\\boldsymbol{w})\\\\%\n",
    "&=\\operatorname*{argmax}_{\\boldsymbol{w}}\\;\\operatorname{LL}(\\boldsymbol{w})-\\lambda\\boldsymbol{w}^t\\boldsymbol{w}\\\\%\n",
    "&=\\operatorname*{argmin}_{\\boldsymbol{w}}\\;\\operatorname{PNLL}(\\boldsymbol{w})%\n",
    "\\qquad\\text{con}\\qquad%\n",
    "\\operatorname{PNLL}(\\boldsymbol{w})=\\operatorname{NLL}(\\boldsymbol{w})+\\lambda\\boldsymbol{w}^t\\boldsymbol{w}\\\\%\n",
    "\\end{align*}$$"
   ]
  }
 ],
 "metadata": {
  "kernelspec": {
   "display_name": "Python 3",
   "language": "python",
   "name": "python3"
  },
  "language_info": {
   "codemirror_mode": {
    "name": "ipython",
    "version": 3
   },
   "file_extension": ".py",
   "mimetype": "text/x-python",
   "name": "python",
   "nbconvert_exporter": "python",
   "pygments_lexer": "ipython3",
   "version": "3.10.6"
  },
  "orig_nbformat": 4
 },
 "nbformat": 4,
 "nbformat_minor": 2
}
