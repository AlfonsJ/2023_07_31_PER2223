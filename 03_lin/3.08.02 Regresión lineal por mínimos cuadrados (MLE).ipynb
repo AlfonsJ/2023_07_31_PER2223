{
 "cells": [
  {
   "attachments": {},
   "cell_type": "markdown",
   "metadata": {},
   "source": [
    "# Regresión lineal por mínimos cuadrados: MLE\n",
    "\n",
    "Sea un modelo de regresión lineal por mínimos cuadrados $p(y\\mid\\boldsymbol{x}, \\boldsymbol{\\theta})%\n",
    "=\\mathcal{N}(y\\mid\\mu,\\sigma^2)\\;$ con $\\;\\mu=\\boldsymbol{w}^t\\boldsymbol{x}\\;$ y $\\;\\boldsymbol{\\theta}=(\\boldsymbol{w}, \\sigma^2)$. La log-verosimilitud negativa de $\\boldsymbol{\\theta}$ respecto a $N$ datos $\\mathcal{D}=\\{(\\boldsymbol{x}_n,y_n)\\}\\;$ es:\n",
    "$$\\begin{align*}\n",
    "\\operatorname{NLL}(\\boldsymbol{\\theta})%\n",
    "&=-\\log p(\\mathcal{D}\\mid\\boldsymbol{\\theta})\\\\%\n",
    "&=-\\log \\prod_{n=1}^N \\mathcal{N}(y_n\\mid \\hat{y}_n, \\sigma^2)%\n",
    "&&\\text{($\\hat{y}_n=\\boldsymbol{w}^t\\boldsymbol{x}_n$)}\\\\%\n",
    "&=-\\sum_{n=1}^N -\\frac{1}{2}\\log(2\\pi\\sigma^2)-\\frac{1}{2\\sigma^2}(y_n-\\hat{y}_n)^2\\\\%\n",
    "&=\\frac{N}{2}\\log(2\\pi\\sigma^2)+\\frac{1}{2\\sigma^2}\\sum_n (y_n-\\hat{y}_n)^2%\n",
    "\\end{align*}$$\n",
    "El MLE de $\\boldsymbol{\\theta}$, $\\hat{\\boldsymbol{\\theta}}$, debe satisfacer\n",
    "$\\;\\boldsymbol{\\nabla}_{\\boldsymbol{\\theta}}\\operatorname{NLL}(\\boldsymbol{\\theta})\\rvert_{\\hat{\\boldsymbol{\\theta}}}=\\boldsymbol{0}$\n",
    "$\\;$ o, equivalentemente:\n",
    "$$\\boldsymbol{\\nabla}_{\\boldsymbol{\\boldsymbol{w}}}\\operatorname{NLL}(\\boldsymbol{\\theta})\\rvert_{\\hat{\\boldsymbol{\\theta}}}=\\boldsymbol{0}%\n",
    "\\quad\\text{y}\\quad%\n",
    "\\frac{\\partial \\operatorname{NLL}(\\boldsymbol{\\theta})}{\\partial\\sigma^2}\\Bigr\\rvert_{\\hat{\\boldsymbol{\\theta}}}=0$$\n",
    "El $\\hat{\\boldsymbol{w}}$ que satisface la primera de estas condiciones puede hallarse con independencia de $\\sigma^2$, minimizando la **suma de cuadrados residual**:\n",
    "$$\\operatorname{RSS}(\\boldsymbol{w})%\n",
    "=\\frac{1}{2}\\sum_n(y_n-\\boldsymbol{w}^t\\boldsymbol{x}_n)^2%\n",
    "=\\frac{1}{2}\\lVert\\mathbf{X}\\boldsymbol{w}-\\boldsymbol{y}\\rVert_2^2$$\n",
    "Tras hallar $\\hat{\\boldsymbol{w}}$, $\\hat{\\sigma}^2$ se obtiene como el error cuadrático medio de los residuos:\n",
    "$$\\hat{\\sigma}^2%\n",
    "=\\operatorname*{argmin}_{\\sigma^2}\\;\\operatorname{NLL}(\\hat{\\boldsymbol{w}},\\sigma^2)%\n",
    "=\\frac{1}{N}\\sum_n (y_n-\\hat{\\boldsymbol{w}}^t\\boldsymbol{x}_n)^2$$"
   ]
  }
 ],
 "metadata": {
  "kernelspec": {
   "display_name": "Python 3",
   "language": "python",
   "name": "python3"
  },
  "language_info": {
   "codemirror_mode": {
    "name": "ipython",
    "version": 3
   },
   "file_extension": ".py",
   "mimetype": "text/x-python",
   "name": "python",
   "nbconvert_exporter": "python",
   "pygments_lexer": "ipython3",
   "version": "3.10.6"
  },
  "orig_nbformat": 4
 },
 "nbformat": 4,
 "nbformat_minor": 2
}
